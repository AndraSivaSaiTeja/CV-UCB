{
 "cells": [
  {
   "cell_type": "code",
   "execution_count": 158,
   "metadata": {},
   "outputs": [],
   "source": [
    "import pickle\n",
    "import numpy as np\n",
    "from copy import deepcopy\n",
    "import import_ipynb\n",
    "from greedy_algo import *\n",
    "import matplotlib.pyplot as plt\n"
   ]
  },
  {
   "cell_type": "code",
   "execution_count": 159,
   "metadata": {},
   "outputs": [],
   "source": [
    "def Ber(p):\n",
    "    #Gives a random sample from Bernoulli distribution with prob. of 1 as p\n",
    "    return np.random.binomial(n=1,p=p,size=1).item()\n"
   ]
  },
  {
   "cell_type": "code",
   "execution_count": 160,
   "metadata": {},
   "outputs": [
    {
     "name": "stdout",
     "output_type": "stream",
     "text": [
      "{0: [1, 3, 7, 10, 13, 14, 17], 1: [0, 7, 10, 11, 13, 18], 2: [3, 4, 5, 7, 8, 12, 13, 17, 18], 3: [0, 2, 7, 9, 12, 14], 4: [2, 7, 8, 11, 12, 14, 15, 16, 18, 19], 5: [2, 6, 7, 8, 9, 12, 13, 14, 15, 16, 18, 19], 6: [5, 7, 9, 12, 15, 18], 7: [0, 1, 2, 3, 4, 5, 6, 8, 10, 17, 18], 8: [2, 4, 5, 7, 10, 14, 16, 17, 18, 19], 9: [3, 5, 6, 12, 13, 14, 15, 16], 10: [0, 1, 7, 8, 12, 13, 16, 17, 18, 19], 11: [1, 4, 14, 15, 16, 17, 18, 19], 12: [2, 3, 4, 5, 6, 9, 10, 13, 14, 17, 18, 19], 13: [0, 1, 2, 5, 9, 10, 12, 14, 15, 16, 17, 18, 19], 14: [0, 3, 4, 5, 8, 9, 11, 12, 13, 18, 19], 15: [4, 5, 6, 9, 11, 13, 17, 18, 19], 16: [4, 5, 8, 9, 10, 11, 13, 18], 17: [0, 2, 7, 8, 10, 11, 12, 13, 15, 18, 19], 18: [1, 2, 4, 5, 6, 7, 8, 10, 11, 12, 13, 14, 15, 16, 17], 19: [4, 5, 8, 10, 11, 12, 13, 14, 15, 17]}\n"
     ]
    }
   ],
   "source": [
    "#Base Graph G=(V,E)\n",
    "V = list(range(20))\n",
    "E = {}\n",
    "\n",
    "for v in V:\n",
    "    E[v] = []\n",
    "    \n",
    "for v in V:\n",
    "    for vv in V:\n",
    "        if(v != vv and v > vv):\n",
    "            if(np.random.rand(1)>0.5):\n",
    "                E[v].append(vv)\n",
    "                E[vv].append(v)\n",
    "\n",
    "G = [V,E]\n",
    "print(E)\n",
    "#This piece of code generates true edge probabilities we have for G=(V,E)\n",
    "p = np.zeros((len(V),len(V)))\n",
    "degree = []\n",
    "for v in V:\n",
    "    degree.append(len(E[v]))\n",
    "\n",
    "for v in V:\n",
    "    for e in E[v]:\n",
    "        p[v][e] = 1/degree[e]"
   ]
  },
  {
   "cell_type": "code",
   "execution_count": 161,
   "metadata": {},
   "outputs": [],
   "source": [
    "#Gerenrating a sub-graph of G (say Gt=(Vt,Et))\n",
    "\n",
    "def give_Gt(G,p):\n",
    "    #G is base graph\n",
    "    #p is prob. that an edge in G is present\n",
    "    (V,E) = G\n",
    "    Vt = deepcopy(V)\n",
    "    Et = {}\n",
    "    for v in V:\n",
    "        Et[v]=[]\n",
    "\n",
    "    for v in V:\n",
    "        for e in E[v]:\n",
    "            if(e>v and Ber(p)==1):\n",
    "                Et[v].append(e)\n",
    "                Et[e].append(v)\n",
    "    return (Vt,Et)"
   ]
  },
  {
   "cell_type": "code",
   "execution_count": 162,
   "metadata": {},
   "outputs": [],
   "source": [
    "#Settings\n",
    "T = int(1e+3)\n",
    "k = 2#we need 2 most influenced nodes\n",
    "no_of_vertices = len(V)\n",
    "#p we have already\n",
    "p_sum = np.zeros((no_of_vertices,no_of_vertices))\n",
    "N_t = np.zeros((no_of_vertices,no_of_vertices))\n"
   ]
  },
  {
   "cell_type": "code",
   "execution_count": 163,
   "metadata": {},
   "outputs": [],
   "source": [
    "def any_unpulledarm(Vt,Et):\n",
    "    for v in Vt:\n",
    "        for e in Et[v]:\n",
    "            if(N_t[v][e]==0):\n",
    "                return 1\n",
    "    return 0"
   ]
  },
  {
   "cell_type": "code",
   "execution_count": 164,
   "metadata": {},
   "outputs": [
    {
     "name": "stdout",
     "output_type": "stream",
     "text": [
      "[1, 3] [18, 5] 2.0 3.0\n",
      "[1, 3] [18, 5] 2.0 3.0\n",
      "[0, 1] [18, 5] 2.0 3.0\n",
      "[0, 1] [18, 5] 2.0 3.0\n",
      "[0, 1] [18, 5] 2.0 3.0\n",
      "[0, 1] [18, 5] 2.0 3.0\n"
     ]
    }
   ],
   "source": [
    "regret_t = []\n",
    "regret_sum = 0\n",
    "\n",
    "for t in range(1,T+1):\n",
    "    Gt = give_Gt(G,p=1)\n",
    "    (Vt,Et) = Gt\n",
    "    \n",
    "    if(any_unpulledarm(Vt,Et)):\n",
    "        #pull all arms Et\n",
    "        for v in Vt:\n",
    "            for e in Et[v]:\n",
    "                sample = Ber(p[v][e])\n",
    "                p_sum[v][e] += sample\n",
    "                N_t[v][e] += 1\n",
    "        regret_t.append(0)\n",
    "\n",
    "        #print(p_sum,N_t)          \n",
    "    else:\n",
    "        #ORACLE\n",
    "        #print(p_bar-p)\n",
    "        gamma = (1-(1/np.exp(1)))\n",
    "        beta = 1\n",
    "        #p_bar = p_sum/N_t + np.sqrt((3*np.log10(t))/(20*N_t[v][e]))\n",
    "        (St,_,_) = greedy(Gt,k,p_sum,N_t,t,mc=100)\n",
    "        (r_St,pulled_arms) = IC2(Gt,St,p,mc=1)\n",
    "        for v in list(pulled_arms.keys()):\n",
    "            for e in pulled_arms[v]:\n",
    "                p_sum[v][e] += 1\n",
    "                N_t[v][e] += 1\n",
    "        # for v in Vt:\n",
    "        #     for e in Et[v]:        \n",
    "        #         N_t[v][e] += 1\n",
    "        #         temp = (p_sum[v][e]/N_t[v][e]) + np.sqrt((3*np.log10(t))/(2*N_t[v][e])) \n",
    "        #         if(temp>1):\n",
    "        #             p_bar[v][e] = 1\n",
    "        #         else:\n",
    "        #             p_bar[v][e] = temp\n",
    "        (St_star,_,_) = greedy2(Gt,k,p,mc=100)\n",
    "        r_St_star,_ = IC2(Gt,St_star,p,mc=1)\n",
    "        regret_sum += 1*beta*r_St_star - r_St\n",
    "        regret_t.append(regret_sum)\n",
    "        print(St,St_star,r_St,r_St_star)\n",
    "        plt.plot(regret_t,color='blue')\n",
    "        plt.savefig('plot.png')\n",
    "        plt.close()\n",
    "\n"
   ]
  }
 ],
 "metadata": {
  "kernelspec": {
   "display_name": "siva",
   "language": "python",
   "name": "python3"
  },
  "language_info": {
   "codemirror_mode": {
    "name": "ipython",
    "version": 3
   },
   "file_extension": ".py",
   "mimetype": "text/x-python",
   "name": "python",
   "nbconvert_exporter": "python",
   "pygments_lexer": "ipython3",
   "version": "3.11.3"
  },
  "orig_nbformat": 4
 },
 "nbformat": 4,
 "nbformat_minor": 2
}
